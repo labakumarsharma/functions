{
  "nbformat": 4,
  "nbformat_minor": 0,
  "metadata": {
    "colab": {
      "provenance": []
    },
    "kernelspec": {
      "name": "python3",
      "display_name": "Python 3"
    },
    "language_info": {
      "name": "python"
    }
  },
  "cells": [
    {
      "cell_type": "code",
      "execution_count": null,
      "metadata": {
        "id": "fFAkE4hMoJ3b"
      },
      "outputs": [],
      "source": []
    },
    {
      "cell_type": "markdown",
      "source": [
        "#Functions"
      ],
      "metadata": {
        "id": "YqoA4i6Kop2Q"
      }
    },
    {
      "cell_type": "markdown",
      "source": [
        "what is the difference between\n"
      ],
      "metadata": {
        "id": "Lh0tg6URpAwZ"
      }
    },
    {
      "cell_type": "markdown",
      "source": [],
      "metadata": {
        "id": "3d-TEs2Epyh4"
      }
    },
    {
      "cell_type": "code",
      "source": [],
      "metadata": {
        "id": "SEdTeZWyqLzb"
      },
      "execution_count": null,
      "outputs": []
    },
    {
      "cell_type": "markdown",
      "source": [],
      "metadata": {
        "id": "_v0Q0_c6qOUI"
      }
    }
  ]
}